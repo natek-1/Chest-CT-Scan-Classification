{
 "cells": [
  {
   "cell_type": "code",
   "execution_count": 4,
   "metadata": {},
   "outputs": [],
   "source": [
    "import os\n",
    "from dataclasses import dataclass\n",
    "from pathlib import Path\n",
    "from typing import List"
   ]
  },
  {
   "cell_type": "code",
   "execution_count": 2,
   "metadata": {},
   "outputs": [],
   "source": [
    "os.chdir(\"..\")"
   ]
  },
  {
   "cell_type": "code",
   "execution_count": 16,
   "metadata": {},
   "outputs": [],
   "source": [
    "@dataclass(frozen=True)\n",
    "class TrainingConfig:\n",
    "    root_dir: Path\n",
    "    training_data_path: Path\n",
    "    pretrained_model_path: Path\n",
    "    model_filename: str\n",
    "    augmentation: bool\n",
    "    batch_size: int\n",
    "    epochs: int\n",
    "    image_size: List"
   ]
  },
  {
   "cell_type": "code",
   "execution_count": 17,
   "metadata": {},
   "outputs": [],
   "source": [
    "from cnnClassifier.constants import CONFIG_FILE_PATH, PARAMS_FILE_PATH\n",
    "from cnnClassifier.utils.common import read_yaml, create_directories"
   ]
  },
  {
   "cell_type": "code",
   "execution_count": 18,
   "metadata": {},
   "outputs": [],
   "source": [
    "class ConfigManager:\n",
    "\n",
    "    def __init__(self,\n",
    "                 config_filepath=CONFIG_FILE_PATH, params_filepath=PARAMS_FILE_PATH):\n",
    "        self.config = read_yaml(config_filepath)\n",
    "        self.params = read_yaml(params_filepath)\n",
    "    \n",
    "    def get_training_config(self) -> TrainingConfig:\n",
    "        config = self.config.training\n",
    "\n",
    "        training_config = TrainingConfig(\n",
    "            root_dir=config.root_dir,\n",
    "            training_data_path=config.training_data_path,\n",
    "            pretrained_model_path=config.pretrained_model_path,\n",
    "            model_filename=config.model_filename,\n",
    "            augmentation=self.params.AUGMENTATION,\n",
    "            batch_size=self.params.BATCH_SIZE,\n",
    "            epochs=self.params.EPOCHS,\n",
    "            image_size=self.params.IMAGE_SIZE\n",
    "        )\n",
    "\n",
    "        return training_config"
   ]
  },
  {
   "cell_type": "code",
   "execution_count": 19,
   "metadata": {},
   "outputs": [],
   "source": [
    "import os\n",
    "import tensorflow as tf\n",
    "from cnnClassifier.exception import CustomException\n",
    "from cnnClassifier.logger import logging"
   ]
  },
  {
   "cell_type": "code",
   "execution_count": 26,
   "metadata": {},
   "outputs": [],
   "source": [
    "class Training:\n",
    "\n",
    "    def __init__(self, config: TrainingConfig):\n",
    "        self.config = config\n",
    "        self.model = None\n",
    "        self.train_generator = None\n",
    "        self.valid_generator = None\n",
    "        self.get_base_model()\n",
    "\n",
    "    \n",
    "    def get_base_model(self):\n",
    "        self.model = tf.keras.models.load_model(self.config.pretrained_model_path)\n",
    "    \n",
    "    @staticmethod\n",
    "    def save_model(model: tf.keras.Model, path: Path):\n",
    "        model.save(path)\n",
    "    \n",
    "    def _train_valid_generator(self):\n",
    "\n",
    "        data_generator_kwargs = dict(\n",
    "            rescale=1./255,\n",
    "            validation_split = 0.2\n",
    "        )\n",
    "\n",
    "        valid_data_generator = tf.keras.preprocessing.image.ImageDataGenerator(**data_generator_kwargs)\n",
    "\n",
    "        dataflow_kwargs = dict(\n",
    "            target_size = self.config.image_size[:-1],\n",
    "            batch_size = self.config.batch_size,\n",
    "            interpolation=\"bilinear\"\n",
    "        )\n",
    "\n",
    "        self.valid_generator = valid_data_generator.flow_from_directory(\n",
    "            self.config.training_data_path,\n",
    "            subset=\"validation\",\n",
    "            shuffle=False,\n",
    "            **dataflow_kwargs\n",
    "        )\n",
    "\n",
    "        if self.config.augmentation:\n",
    "            train_data_generator = tf.keras.preprocessing.image.ImageDataGenerator(\n",
    "                rotation_range=40,\n",
    "                horizontal_flip=True,\n",
    "                width_shift_range=0.2,\n",
    "                height_shift_range=0.2,\n",
    "                shear_range=0.2,\n",
    "                zoom_range=0.2,\n",
    "                **data_generator_kwargs\n",
    "            )\n",
    "        else:\n",
    "            train_data_generator = valid_data_generator\n",
    "        \n",
    "        self.train_generator = train_data_generator.flow_from_directory(\n",
    "            directory=self.config.training_data_path,\n",
    "            subset=\"training\",\n",
    "            shuffle=True,\n",
    "            **dataflow_kwargs\n",
    "        )\n",
    "    \n",
    "    def train(self):\n",
    "        train_steps = self.train_generator.samples // self.train_generator.batch_size\n",
    "        validation_steps = self.valid_generator.samples // self.valid_generator.batch_size\n",
    "\n",
    "        self.model.fit(\n",
    "            self.train_generator,\n",
    "            epochs = self.config.epochs,\n",
    "            steps_per_epoch = train_steps,\n",
    "            validation_data=self.valid_generator,\n",
    "            validation_steps=validation_steps\n",
    "        )\n",
    "        path = os.path.join(self.config.root_dir, self.config.model_filename)\n",
    "\n",
    "        self.save_model(model=self.model, path=path)\n",
    "\n",
    "\n",
    "    \n"
   ]
  },
  {
   "cell_type": "code",
   "execution_count": 27,
   "metadata": {},
   "outputs": [
    {
     "name": "stdout",
     "output_type": "stream",
     "text": [
      "Found 68 images belonging to 2 classes.\n",
      "Found 275 images belonging to 2 classes.\n",
      "Epoch 1/5\n",
      "17/17 [==============================] - 30s 2s/step - loss: 0.8568 - accuracy: 0.5328 - val_loss: 0.6914 - val_accuracy: 0.6094\n",
      "Epoch 2/5\n",
      "17/17 [==============================] - 29s 2s/step - loss: 0.6912 - accuracy: 0.5753 - val_loss: 0.6891 - val_accuracy: 0.6094\n",
      "Epoch 3/5\n",
      "17/17 [==============================] - 28s 2s/step - loss: 0.6908 - accuracy: 0.5637 - val_loss: 0.6879 - val_accuracy: 0.6094\n",
      "Epoch 4/5\n",
      "17/17 [==============================] - 30s 2s/step - loss: 0.6899 - accuracy: 0.5625 - val_loss: 0.6872 - val_accuracy: 0.6094\n",
      "Epoch 5/5\n",
      "17/17 [==============================] - 28s 2s/step - loss: 0.6899 - accuracy: 0.5560 - val_loss: 0.6854 - val_accuracy: 0.6094\n"
     ]
    },
    {
     "name": "stderr",
     "output_type": "stream",
     "text": [
      "/Users/ngkuissi/miniforge3/envs/chest/lib/python3.8/site-packages/keras/src/engine/training.py:3000: UserWarning: You are saving your model as an HDF5 file via `model.save()`. This file format is considered legacy. We recommend using instead the native Keras format, e.g. `model.save('my_model.keras')`.\n",
      "  saving_api.save_model(\n"
     ]
    }
   ],
   "source": [
    "try:\n",
    "    config = ConfigManager()\n",
    "    training_config = config.get_training_config()\n",
    "    training = Training(config=training_config)\n",
    "    training._train_valid_generator()\n",
    "    training.train()\n",
    "    \n",
    "except Exception as e:\n",
    "    raise e"
   ]
  },
  {
   "cell_type": "code",
   "execution_count": null,
   "metadata": {},
   "outputs": [],
   "source": []
  },
  {
   "cell_type": "code",
   "execution_count": null,
   "metadata": {},
   "outputs": [],
   "source": []
  }
 ],
 "metadata": {
  "kernelspec": {
   "display_name": "chest",
   "language": "python",
   "name": "python3"
  },
  "language_info": {
   "codemirror_mode": {
    "name": "ipython",
    "version": 3
   },
   "file_extension": ".py",
   "mimetype": "text/x-python",
   "name": "python",
   "nbconvert_exporter": "python",
   "pygments_lexer": "ipython3",
   "version": "3.8.19"
  },
  "orig_nbformat": 4
 },
 "nbformat": 4,
 "nbformat_minor": 2
}
