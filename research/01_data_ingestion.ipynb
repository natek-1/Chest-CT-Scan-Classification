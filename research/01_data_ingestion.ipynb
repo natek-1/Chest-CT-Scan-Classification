{
 "cells": [
  {
   "cell_type": "code",
   "execution_count": 1,
   "metadata": {},
   "outputs": [],
   "source": [
    "import os\n",
    "from pathlib import Path\n",
    "from dataclasses import dataclass"
   ]
  },
  {
   "cell_type": "code",
   "execution_count": 2,
   "metadata": {},
   "outputs": [],
   "source": [
    "os.chdir(\"..\")"
   ]
  },
  {
   "cell_type": "code",
   "execution_count": 3,
   "metadata": {},
   "outputs": [],
   "source": [
    "@dataclass(frozen=True)\n",
    "class DataIngestionConfig:\n",
    "    root_dir: Path\n",
    "    source_url: str\n",
    "    local_file: str"
   ]
  },
  {
   "cell_type": "code",
   "execution_count": 4,
   "metadata": {},
   "outputs": [],
   "source": [
    "from cnnClassifier.constants import CONFIG_FILE_PATH, PARAMS_FILE_PATH\n",
    "from cnnClassifier.utils.common import read_yaml, create_directories"
   ]
  },
  {
   "cell_type": "code",
   "execution_count": 12,
   "metadata": {},
   "outputs": [],
   "source": [
    "class ConfigManager:\n",
    "\n",
    "    def __init__(self,\n",
    "                 config_filepath=CONFIG_FILE_PATH, params_filepath=PARAMS_FILE_PATH):\n",
    "        self.config = read_yaml(config_filepath)\n",
    "        #self.param = read_yaml(params_filepath)\n",
    "    \n",
    "    def get_data_ingestion_config(self) -> DataIngestionConfig:\n",
    "        config = self.config.data_ingestion\n",
    "\n",
    "        data_ingestion_config = DataIngestionConfig(\n",
    "            root_dir=config.root_dir,\n",
    "            source_url=config.source_url,\n",
    "            local_file=config.local_file)\n",
    "        \n",
    "        return data_ingestion_config\n"
   ]
  },
  {
   "cell_type": "code",
   "execution_count": 13,
   "metadata": {},
   "outputs": [],
   "source": [
    "import os, sys\n",
    "import zipfile\n",
    "import gdown\n",
    "from cnnClassifier.logger import logging\n",
    "from cnnClassifier.utils.common import get_size\n",
    "from cnnClassifier.exception import CustomException"
   ]
  },
  {
   "cell_type": "code",
   "execution_count": 14,
   "metadata": {},
   "outputs": [],
   "source": [
    "class DataIngestion:\n",
    "\n",
    "    def __init__(self, config: DataIngestionConfig):\n",
    "        self.config = config\n",
    "\n",
    "    \n",
    "    def download_file(self):\n",
    "        '''Downloads the file provided in the apprioriate url from the config data ingestion path \n",
    "        and saved it to location indicated  as per config folder \n",
    "        '''\n",
    "\n",
    "        try:\n",
    "            dataset_url = self.config.source_url\n",
    "            os.makedirs(self.config.root_dir, exist_ok=True)\n",
    "            zip_download_dir = os.path.join(self.config.root_dir, self.config.local_file)\n",
    "\n",
    "            file_id = self.config.source_url.split(\"/\")[-2]\n",
    "            prefix = 'https://drive.google.com/uc?/export=download&id='\n",
    "            logging.info(\"About to start the download process\")\n",
    "\n",
    "            gdown.download(prefix+file_id,zip_download_dir)\n",
    "\n",
    "            logging.info(f\"downloaded the file at {self.config.source_url} into the file {zip_download_dir}\")\n",
    "\n",
    "        except Exception as e:\n",
    "            error = CustomException(e, sys)\n",
    "            logging.error(error.error_message)\n",
    "            raise error\n",
    "\n",
    "    def extract_zip_file(self):\n",
    "        \"\"\"\n",
    "        zip_file_path: str\n",
    "        Extracts the zip file into the data directory\n",
    "        Function returns None\n",
    "        \"\"\"\n",
    "        # make sure file is presente\n",
    "        unzip_path = self.config.root_dir\n",
    "        os.makedirs(unzip_path, exist_ok=True)\n",
    "        path_to_unzip = os.path.join(self.config.root_dir, self.config.local_file)\n",
    "        with zipfile.ZipFile(path_to_unzip, 'r') as zip_ref:\n",
    "            zip_ref.extractall(unzip_path)\n",
    "            "
   ]
  },
  {
   "cell_type": "code",
   "execution_count": 16,
   "metadata": {},
   "outputs": [
    {
     "name": "stderr",
     "output_type": "stream",
     "text": [
      "Downloading...\n",
      "From (original): https://drive.google.com/uc?/export=download&id=1z0mreUtRmR-P-magILsDR3T7M6IkGXtY\n",
      "From (redirected): https://drive.google.com/uc?%2Fexport=download&id=1z0mreUtRmR-P-magILsDR3T7M6IkGXtY&confirm=t&uuid=e74b2b93-b270-4a34-b24f-eb6cee4e1c21\n",
      "To: /Users/ngkuissi/Dev/projects/Chest-CT-Scan-Classification/artifacts/data_ingestion/data.zip\n",
      "100%|██████████| 49.0M/49.0M [00:11<00:00, 4.20MB/s]\n"
     ]
    }
   ],
   "source": [
    "try:\n",
    "    config = ConfigManager()\n",
    "    data_ingestion_config = config.get_data_ingestion_config()\n",
    "    data_ingestion = DataIngestion(data_ingestion_config)\n",
    "    data_ingestion.download_file()\n",
    "    data_ingestion.extract_zip_file()\n",
    "except CustomException as e:\n",
    "    error = CustomException(e, sys)\n",
    "    logging.error(error.error_message)\n",
    "    raise error"
   ]
  },
  {
   "cell_type": "code",
   "execution_count": null,
   "metadata": {},
   "outputs": [],
   "source": []
  }
 ],
 "metadata": {
  "kernelspec": {
   "display_name": "chest",
   "language": "python",
   "name": "python3"
  },
  "language_info": {
   "codemirror_mode": {
    "name": "ipython",
    "version": 3
   },
   "file_extension": ".py",
   "mimetype": "text/x-python",
   "name": "python",
   "nbconvert_exporter": "python",
   "pygments_lexer": "ipython3",
   "version": "3.8.19"
  },
  "orig_nbformat": 4
 },
 "nbformat": 4,
 "nbformat_minor": 2
}
